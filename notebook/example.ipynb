{
 "cells": [
  {
   "cell_type": "code",
   "execution_count": 1,
   "metadata": {
    "ExecuteTime": {
     "end_time": "2020-04-14T23:02:50.356699Z",
     "start_time": "2020-04-14T23:02:49.773722Z"
    }
   },
   "outputs": [],
   "source": [
    "import pandas as pd\n",
    "import dataprofile\n",
    "from dataprofile import ProfileReport"
   ]
  },
  {
   "cell_type": "code",
   "execution_count": 2,
   "metadata": {
    "ExecuteTime": {
     "end_time": "2020-04-14T23:02:50.394844Z",
     "start_time": "2020-04-14T23:02:50.360511Z"
    }
   },
   "outputs": [],
   "source": [
    "%load_ext autoreload\n",
    "%autoreload 2"
   ]
  },
  {
   "cell_type": "code",
   "execution_count": 3,
   "metadata": {},
   "outputs": [
    {
     "data": {
      "text/plain": [
       "['ProfileReport',\n",
       " '__all__',\n",
       " '__builtins__',\n",
       " '__cached__',\n",
       " '__doc__',\n",
       " '__file__',\n",
       " '__loader__',\n",
       " '__name__',\n",
       " '__package__',\n",
       " '__path__',\n",
       " '__spec__',\n",
       " '_config',\n",
       " '_monitor',\n",
       " '_profiling',\n",
       " '_var_statistics',\n",
       " 'get_df_profile',\n",
       " 'get_var_summary',\n",
       " 'render_report',\n",
       " 'reporting']"
      ]
     },
     "execution_count": 3,
     "metadata": {},
     "output_type": "execute_result"
    }
   ],
   "source": [
    "dir(dataprofile)"
   ]
  },
  {
   "cell_type": "code",
   "execution_count": 4,
   "metadata": {
    "ExecuteTime": {
     "end_time": "2020-04-14T23:02:50.439264Z",
     "start_time": "2020-04-14T23:02:50.397042Z"
    }
   },
   "outputs": [
    {
     "data": {
      "text/plain": [
       "(891, 12)"
      ]
     },
     "execution_count": 4,
     "metadata": {},
     "output_type": "execute_result"
    }
   ],
   "source": [
    "df = pd.read_csv('../data/titanic/train.csv')\n",
    "df.shape"
   ]
  },
  {
   "cell_type": "code",
   "execution_count": 5,
   "metadata": {
    "ExecuteTime": {
     "end_time": "2020-04-14T23:02:50.471555Z",
     "start_time": "2020-04-14T23:02:50.441933Z"
    }
   },
   "outputs": [],
   "source": [
    "report = ProfileReport()"
   ]
  },
  {
   "cell_type": "code",
   "execution_count": 6,
   "metadata": {
    "scrolled": true
   },
   "outputs": [
    {
     "data": {
      "text/plain": [
       "{'num_works': -1, 'random_state': 0, 'sample_size': -1, 'var_per_row': 6}"
      ]
     },
     "execution_count": 6,
     "metadata": {},
     "output_type": "execute_result"
    }
   ],
   "source": [
    "report.get_params()"
   ]
  },
  {
   "cell_type": "code",
   "execution_count": 7,
   "metadata": {
    "scrolled": false
   },
   "outputs": [
    {
     "name": "stderr",
     "output_type": "stream",
     "text": [
      "2020-05-04 at 19:42:44|INFO|Profiling variables: 100%|████████████████████████████████████████12/12\n"
     ]
    },
    {
     "data": {
      "text/plain": [
       "ProfileReport(num_works=-1, random_state=0, sample_size=-1, var_per_row=6)"
      ]
     },
     "execution_count": 7,
     "metadata": {},
     "output_type": "execute_result"
    }
   ],
   "source": [
    "report.fit(df)"
   ]
  },
  {
   "cell_type": "code",
   "execution_count": 8,
   "metadata": {
    "ExecuteTime": {
     "end_time": "2020-04-14T23:02:50.739338Z",
     "start_time": "2020-04-14T23:02:50.473751Z"
    }
   },
   "outputs": [
    {
     "name": "stdout",
     "output_type": "stream",
     "text": [
      "================================== Beginning of report ===================================\n",
      "\n",
      "This following report is created by Gordon Chen on Monday, May 04, 2020\n",
      "\n",
      "================ Table Statistics ================\n",
      "+------------------+---------+\n",
      "|                  |   count |\n",
      "|------------------+---------|\n",
      "| n_row            |     891 |\n",
      "| n_col            |      12 |\n",
      "| n_missing_cell   |     866 |\n",
      "| n_empty_row      |       0 |\n",
      "| n_duplicated_row |       0 |\n",
      "| n_Useless_var    |       2 |\n",
      "| n_Binary_var     |       2 |\n",
      "| n_Nominal_var    |       3 |\n",
      "| n_Interval_var   |       5 |\n",
      "+------------------+---------+\n",
      "\n",
      "\n",
      "================ Variable Summary ================\n",
      "+-------------+----------+-------------+---------+-------------+-------------+------------+------------+\n",
      "|             | type     | data_type   |   count |   n_missing | p_missing   |   n_unique | p_unique   |\n",
      "|-------------+----------+-------------+---------+-------------+-------------+------------+------------|\n",
      "| PassengerId | Useless  | Unique      |     891 |           0 | 0.00%       |        891 | 100.00%    |\n",
      "| Name        | Useless  | Unique      |     891 |           0 | 0.00%       |        891 | 100.00%    |\n",
      "| Survived    | Binary   | Numerical   |     891 |           0 | 0.00%       |          2 | 0.22%      |\n",
      "| Sex         | Binary   | Categorical |     891 |           0 | 0.00%       |          2 | 0.22%      |\n",
      "| Ticket      | Nominal  | Categorical |     891 |           0 | 0.00%       |        681 | 76.43%     |\n",
      "| Cabin       | Nominal  | Categorical |     891 |         687 | 77.10%      |        147 | 72.06%     |\n",
      "| Embarked    | Nominal  | Categorical |     891 |           2 | 0.22%       |          3 | 0.34%      |\n",
      "| Pclass      | Interval | Numerical   |     891 |           0 | 0.00%       |          3 | 0.34%      |\n",
      "| Parch       | Interval | Numerical   |     891 |           0 | 0.00%       |          7 | 0.79%      |\n",
      "| SibSp       | Interval | Numerical   |     891 |           0 | 0.00%       |          7 | 0.79%      |\n",
      "| Fare        | Interval | Numerical   |     891 |           0 | 0.00%       |        248 | 27.83%     |\n",
      "| Age         | Interval | Numerical   |     891 |         177 | 19.87%      |         88 | 12.32%     |\n",
      "+-------------+----------+-------------+---------+-------------+-------------+------------+------------+\n",
      "\n",
      "\n",
      "============== Variable Statistics ===============\n",
      "\n",
      "Useless variables:\n",
      "+-----------+---------------+---------+\n",
      "|           | PassengerId   | Name    |\n",
      "|-----------+---------------+---------|\n",
      "| count     | 891           | 891     |\n",
      "| n_missing | 0             | 0       |\n",
      "| p_missing | 0.00%         | 0.00%   |\n",
      "| n_unique  | 891           | 891     |\n",
      "| p_unique  | 100.00%       | 100.00% |\n",
      "+-----------+---------------+---------+\n",
      "\n",
      "Binary variables:\n",
      "+-----------+------------+--------+\n",
      "|           | Survived   | Sex    |\n",
      "|-----------+------------+--------|\n",
      "| count     | 891        | 891    |\n",
      "| n_missing | 0          | 0      |\n",
      "| p_missing | 0.00%      | 0.00%  |\n",
      "| n_unique  | 2          | 2      |\n",
      "| p_unique  | 0.22%      | 0.22%  |\n",
      "| value1    | 0          | male   |\n",
      "| n_value1  | 549        | 577    |\n",
      "| p_value1  | 61.62%     | 64.76% |\n",
      "| value2    | 1          | female |\n",
      "| n_value2  | 342        | 314    |\n",
      "| p_value2  | 38.38%     | 35.24% |\n",
      "+-----------+------------+--------+\n",
      "\n",
      "Nominal variables:\n",
      "+----------------+----------+-------------+------------+\n",
      "|                | Ticket   | Cabin       | Embarked   |\n",
      "|----------------+----------+-------------+------------|\n",
      "| count          | 891      | 891         | 891        |\n",
      "| n_missing      | 0        | 687         | 2          |\n",
      "| p_missing      | 0.00%    | 77.10%      | 0.22%      |\n",
      "| n_unique       | 681      | 147         | 3          |\n",
      "| p_unique       | 76.43%   | 72.06%      | 0.34%      |\n",
      "| mode           | CA. 2343 | G6          | S          |\n",
      "| mode_freq      | 7        | 4           | 644        |\n",
      "| 2nd_freq_value | 1601     | C23 C25 C27 | C          |\n",
      "| 2nd_freq       | 7        | 4           | 168        |\n",
      "| 3rd_freq_value | 347082   | B96 B98     | Q          |\n",
      "| 3rd_freq       | 7        | 4           | 77         |\n",
      "+----------------+----------+-------------+------------+\n",
      "\n",
      "Interval variables:\n",
      "+--------------+----------+---------+---------+-------------+-------------+\n",
      "|              | Pclass   | Parch   | SibSp   | Fare        | Age         |\n",
      "|--------------+----------+---------+---------+-------------+-------------|\n",
      "| count        | 891      | 891     | 891     | 891         | 891         |\n",
      "| n_missing    | 0        | 0       | 0       | 0           | 177         |\n",
      "| p_missing    | 0.00%    | 0.00%   | 0.00%   | 0.00%       | 19.87%      |\n",
      "| n_unique     | 3        | 7       | 7       | 248         | 88          |\n",
      "| p_unique     | 0.34%    | 0.79%   | 0.79%   | 27.83%      | 12.32%      |\n",
      "| mean         | 2.3086   | 0.3816  | 0.5230  | 32.2042     | 29.6991     |\n",
      "| std          | 0.8361   | 0.8061  | 1.1027  | 49.6934     | 14.5265     |\n",
      "| variance     | 0.6990   | 0.6497  | 1.2160  | 2,469.4368  | 211.0191    |\n",
      "| min          | 1        | 0       | 0       | 0.0000      | 0.4200      |\n",
      "| 5%           | 1.0000   | 0.0000  | 0.0000  | 7.2250      | 4.0000      |\n",
      "| 25%          | 2.0000   | 0.0000  | 0.0000  | 7.9104      | 20.1250     |\n",
      "| 50%          | 3.0000   | 0.0000  | 0.0000  | 14.4542     | 28.0000     |\n",
      "| 75%          | 3.0000   | 0.0000  | 1.0000  | 31.0000     | 38.0000     |\n",
      "| 95%          | 3.0000   | 2.0000  | 3.0000  | 112.0791    | 56.0000     |\n",
      "| max          | 3        | 6       | 8       | 512.3292    | 80.0000     |\n",
      "| range        | 2        | 6       | 8       | 512.3292    | 79.5800     |\n",
      "| iqr          | 1.0000   | 0.0000  | 1.0000  | 23.0896     | 17.8750     |\n",
      "| kurtosis     | -1.2800  | 9.7781  | 17.8804 | 33.3981     | 0.1783      |\n",
      "| skewness     | -0.6305  | 2.7491  | 3.6954  | 4.7873      | 0.3891      |\n",
      "| sum          | 2,057    | 340     | 466     | 28,693.9493 | 21,205.1700 |\n",
      "| mean_abs_dev | 0.7620   | 0.5807  | 0.7138  | 28.1637     | 11.3229     |\n",
      "| coff_of_var  | 0.3621   | 2.1123  | 2.1085  | 1.5431      | 0.4891      |\n",
      "| n_zeros      | 0        | 678     | 608     | 15          | 0           |\n",
      "| p_zeros      | 0.0000   | 0.7609  | 0.6824  | 0.0168      | 0.0000      |\n",
      "+--------------+----------+---------+---------+-------------+-------------+\n",
      "\n",
      "\n",
      "================ Confusion Matrix ================\n",
      "row:Survived - col:Sex\n",
      "+----+----------+--------+\n",
      "|    |   female |   male |\n",
      "|----+----------+--------|\n",
      "|  0 |       81 |    468 |\n",
      "|  1 |      233 |    109 |\n",
      "+----+----------+--------+\n",
      "===================================== End of report ======================================\n"
     ]
    }
   ],
   "source": [
    "report.show_report()"
   ]
  },
  {
   "cell_type": "code",
   "execution_count": 9,
   "metadata": {
    "ExecuteTime": {
     "end_time": "2020-04-14T23:02:50.806607Z",
     "start_time": "2020-04-14T23:02:50.742798Z"
    },
    "scrolled": true
   },
   "outputs": [
    {
     "name": "stdout",
     "output_type": "stream",
     "text": [
      "Report saved to test.html\n"
     ]
    }
   ],
   "source": [
    "report.save_report('test.html')"
   ]
  },
  {
   "cell_type": "code",
   "execution_count": 10,
   "metadata": {
    "ExecuteTime": {
     "end_time": "2020-04-14T23:02:50.848839Z",
     "start_time": "2020-04-14T23:02:50.812461Z"
    }
   },
   "outputs": [
    {
     "data": {
      "text/plain": [
       "dict_keys(['table_stats', 'var_summary', 'var_stats', 'conf_matrix'])"
      ]
     },
     "execution_count": 10,
     "metadata": {},
     "output_type": "execute_result"
    }
   ],
   "source": [
    "profile_dict = report.df_profile\n",
    "profile_dict.keys()"
   ]
  },
  {
   "cell_type": "code",
   "execution_count": 11,
   "metadata": {
    "ExecuteTime": {
     "end_time": "2020-04-14T23:02:50.895820Z",
     "start_time": "2020-04-14T23:02:50.851475Z"
    }
   },
   "outputs": [
    {
     "data": {
      "text/html": [
       "<div>\n",
       "<style scoped>\n",
       "    .dataframe tbody tr th:only-of-type {\n",
       "        vertical-align: middle;\n",
       "    }\n",
       "\n",
       "    .dataframe tbody tr th {\n",
       "        vertical-align: top;\n",
       "    }\n",
       "\n",
       "    .dataframe thead th {\n",
       "        text-align: right;\n",
       "    }\n",
       "</style>\n",
       "<table border=\"1\" class=\"dataframe\">\n",
       "  <thead>\n",
       "    <tr style=\"text-align: right;\">\n",
       "      <th></th>\n",
       "      <th>count</th>\n",
       "    </tr>\n",
       "  </thead>\n",
       "  <tbody>\n",
       "    <tr>\n",
       "      <th>n_row</th>\n",
       "      <td>891</td>\n",
       "    </tr>\n",
       "    <tr>\n",
       "      <th>n_col</th>\n",
       "      <td>12</td>\n",
       "    </tr>\n",
       "    <tr>\n",
       "      <th>n_missing_cell</th>\n",
       "      <td>866</td>\n",
       "    </tr>\n",
       "    <tr>\n",
       "      <th>n_empty_row</th>\n",
       "      <td>0</td>\n",
       "    </tr>\n",
       "    <tr>\n",
       "      <th>n_duplicated_row</th>\n",
       "      <td>0</td>\n",
       "    </tr>\n",
       "    <tr>\n",
       "      <th>n_Useless_var</th>\n",
       "      <td>2</td>\n",
       "    </tr>\n",
       "    <tr>\n",
       "      <th>n_Binary_var</th>\n",
       "      <td>2</td>\n",
       "    </tr>\n",
       "    <tr>\n",
       "      <th>n_Nominal_var</th>\n",
       "      <td>3</td>\n",
       "    </tr>\n",
       "    <tr>\n",
       "      <th>n_Interval_var</th>\n",
       "      <td>5</td>\n",
       "    </tr>\n",
       "  </tbody>\n",
       "</table>\n",
       "</div>"
      ],
      "text/plain": [
       "                 count\n",
       "n_row              891\n",
       "n_col               12\n",
       "n_missing_cell     866\n",
       "n_empty_row          0\n",
       "n_duplicated_row     0\n",
       "n_Useless_var        2\n",
       "n_Binary_var         2\n",
       "n_Nominal_var        3\n",
       "n_Interval_var       5"
      ]
     },
     "execution_count": 11,
     "metadata": {},
     "output_type": "execute_result"
    }
   ],
   "source": [
    "profile_dict['table_stats']"
   ]
  },
  {
   "cell_type": "code",
   "execution_count": 12,
   "metadata": {
    "ExecuteTime": {
     "end_time": "2020-04-14T23:02:50.941116Z",
     "start_time": "2020-04-14T23:02:50.898038Z"
    }
   },
   "outputs": [
    {
     "data": {
      "text/html": [
       "<div>\n",
       "<style scoped>\n",
       "    .dataframe tbody tr th:only-of-type {\n",
       "        vertical-align: middle;\n",
       "    }\n",
       "\n",
       "    .dataframe tbody tr th {\n",
       "        vertical-align: top;\n",
       "    }\n",
       "\n",
       "    .dataframe thead th {\n",
       "        text-align: right;\n",
       "    }\n",
       "</style>\n",
       "<table border=\"1\" class=\"dataframe\">\n",
       "  <thead>\n",
       "    <tr style=\"text-align: right;\">\n",
       "      <th></th>\n",
       "      <th>type</th>\n",
       "      <th>data_type</th>\n",
       "      <th>count</th>\n",
       "      <th>n_missing</th>\n",
       "      <th>p_missing</th>\n",
       "      <th>n_unique</th>\n",
       "      <th>p_unique</th>\n",
       "    </tr>\n",
       "  </thead>\n",
       "  <tbody>\n",
       "    <tr>\n",
       "      <th>PassengerId</th>\n",
       "      <td>Useless</td>\n",
       "      <td>Unique</td>\n",
       "      <td>891</td>\n",
       "      <td>0</td>\n",
       "      <td>0.00%</td>\n",
       "      <td>891</td>\n",
       "      <td>100.00%</td>\n",
       "    </tr>\n",
       "    <tr>\n",
       "      <th>Name</th>\n",
       "      <td>Useless</td>\n",
       "      <td>Unique</td>\n",
       "      <td>891</td>\n",
       "      <td>0</td>\n",
       "      <td>0.00%</td>\n",
       "      <td>891</td>\n",
       "      <td>100.00%</td>\n",
       "    </tr>\n",
       "    <tr>\n",
       "      <th>Survived</th>\n",
       "      <td>Binary</td>\n",
       "      <td>Numerical</td>\n",
       "      <td>891</td>\n",
       "      <td>0</td>\n",
       "      <td>0.00%</td>\n",
       "      <td>2</td>\n",
       "      <td>0.22%</td>\n",
       "    </tr>\n",
       "    <tr>\n",
       "      <th>Sex</th>\n",
       "      <td>Binary</td>\n",
       "      <td>Categorical</td>\n",
       "      <td>891</td>\n",
       "      <td>0</td>\n",
       "      <td>0.00%</td>\n",
       "      <td>2</td>\n",
       "      <td>0.22%</td>\n",
       "    </tr>\n",
       "    <tr>\n",
       "      <th>Ticket</th>\n",
       "      <td>Nominal</td>\n",
       "      <td>Categorical</td>\n",
       "      <td>891</td>\n",
       "      <td>0</td>\n",
       "      <td>0.00%</td>\n",
       "      <td>681</td>\n",
       "      <td>76.43%</td>\n",
       "    </tr>\n",
       "    <tr>\n",
       "      <th>Cabin</th>\n",
       "      <td>Nominal</td>\n",
       "      <td>Categorical</td>\n",
       "      <td>891</td>\n",
       "      <td>687</td>\n",
       "      <td>77.10%</td>\n",
       "      <td>147</td>\n",
       "      <td>72.06%</td>\n",
       "    </tr>\n",
       "    <tr>\n",
       "      <th>Embarked</th>\n",
       "      <td>Nominal</td>\n",
       "      <td>Categorical</td>\n",
       "      <td>891</td>\n",
       "      <td>2</td>\n",
       "      <td>0.22%</td>\n",
       "      <td>3</td>\n",
       "      <td>0.34%</td>\n",
       "    </tr>\n",
       "    <tr>\n",
       "      <th>Pclass</th>\n",
       "      <td>Interval</td>\n",
       "      <td>Numerical</td>\n",
       "      <td>891</td>\n",
       "      <td>0</td>\n",
       "      <td>0.00%</td>\n",
       "      <td>3</td>\n",
       "      <td>0.34%</td>\n",
       "    </tr>\n",
       "    <tr>\n",
       "      <th>Parch</th>\n",
       "      <td>Interval</td>\n",
       "      <td>Numerical</td>\n",
       "      <td>891</td>\n",
       "      <td>0</td>\n",
       "      <td>0.00%</td>\n",
       "      <td>7</td>\n",
       "      <td>0.79%</td>\n",
       "    </tr>\n",
       "    <tr>\n",
       "      <th>SibSp</th>\n",
       "      <td>Interval</td>\n",
       "      <td>Numerical</td>\n",
       "      <td>891</td>\n",
       "      <td>0</td>\n",
       "      <td>0.00%</td>\n",
       "      <td>7</td>\n",
       "      <td>0.79%</td>\n",
       "    </tr>\n",
       "    <tr>\n",
       "      <th>Fare</th>\n",
       "      <td>Interval</td>\n",
       "      <td>Numerical</td>\n",
       "      <td>891</td>\n",
       "      <td>0</td>\n",
       "      <td>0.00%</td>\n",
       "      <td>248</td>\n",
       "      <td>27.83%</td>\n",
       "    </tr>\n",
       "    <tr>\n",
       "      <th>Age</th>\n",
       "      <td>Interval</td>\n",
       "      <td>Numerical</td>\n",
       "      <td>891</td>\n",
       "      <td>177</td>\n",
       "      <td>19.87%</td>\n",
       "      <td>88</td>\n",
       "      <td>12.32%</td>\n",
       "    </tr>\n",
       "  </tbody>\n",
       "</table>\n",
       "</div>"
      ],
      "text/plain": [
       "                 type    data_type count n_missing p_missing n_unique p_unique\n",
       "PassengerId   Useless       Unique   891         0     0.00%      891  100.00%\n",
       "Name          Useless       Unique   891         0     0.00%      891  100.00%\n",
       "Survived       Binary    Numerical   891         0     0.00%        2    0.22%\n",
       "Sex            Binary  Categorical   891         0     0.00%        2    0.22%\n",
       "Ticket        Nominal  Categorical   891         0     0.00%      681   76.43%\n",
       "Cabin         Nominal  Categorical   891       687    77.10%      147   72.06%\n",
       "Embarked      Nominal  Categorical   891         2     0.22%        3    0.34%\n",
       "Pclass       Interval    Numerical   891         0     0.00%        3    0.34%\n",
       "Parch        Interval    Numerical   891         0     0.00%        7    0.79%\n",
       "SibSp        Interval    Numerical   891         0     0.00%        7    0.79%\n",
       "Fare         Interval    Numerical   891         0     0.00%      248   27.83%\n",
       "Age          Interval    Numerical   891       177    19.87%       88   12.32%"
      ]
     },
     "execution_count": 12,
     "metadata": {},
     "output_type": "execute_result"
    }
   ],
   "source": [
    "profile_dict['var_summary']"
   ]
  },
  {
   "cell_type": "code",
   "execution_count": 13,
   "metadata": {
    "ExecuteTime": {
     "end_time": "2020-04-14T23:02:50.986285Z",
     "start_time": "2020-04-14T23:02:50.943677Z"
    }
   },
   "outputs": [
    {
     "name": "stdout",
     "output_type": "stream",
     "text": [
      "Useless\n",
      "Index(['PassengerId', 'Name'], dtype='object')\n",
      "Binary\n",
      "Index(['Survived', 'Sex'], dtype='object')\n",
      "Nominal\n",
      "Index(['Ticket', 'Cabin', 'Embarked'], dtype='object')\n",
      "Interval\n",
      "Index(['Pclass', 'Parch', 'SibSp', 'Fare', 'Age'], dtype='object')\n"
     ]
    }
   ],
   "source": [
    "for k,y in profile_dict['var_stats'].items():\n",
    "    print(k)\n",
    "    print(y.index)"
   ]
  },
  {
   "cell_type": "markdown",
   "metadata": {},
   "source": [
    "# convert to pdf"
   ]
  },
  {
   "cell_type": "code",
   "execution_count": 15,
   "metadata": {},
   "outputs": [
    {
     "data": {
      "text/plain": [
       "dict_keys(['table_stats', 'var_summary', 'var_stats', 'conf_matrix'])"
      ]
     },
     "execution_count": 15,
     "metadata": {},
     "output_type": "execute_result"
    }
   ],
   "source": [
    "report.df_profile.keys()"
   ]
  },
  {
   "cell_type": "code",
   "execution_count": 16,
   "metadata": {},
   "outputs": [],
   "source": [
    "from dataprofile.reporting import profile_to_str"
   ]
  },
  {
   "cell_type": "code",
   "execution_count": 36,
   "metadata": {},
   "outputs": [],
   "source": [
    "str_ = profile_to_str(report.df_profile,table_fmt = 'html',\n",
    "        line_breaker = '<br>')\n",
    "#str_ = '<br>'.join(str_)"
   ]
  },
  {
   "cell_type": "code",
   "execution_count": 42,
   "metadata": {},
   "outputs": [
    {
     "data": {
      "text/plain": [
       "'<table border=\"1\" class=\"dataframe\">\\n  <thead>\\n    <tr style=\"text-align: right;\">\\n      <th></th>\\n      <th>count</th>\\n    </tr>\\n  </thead>\\n  <tbody>\\n    <tr>\\n      <th>n_row</th>\\n      <td>891</td>\\n    </tr>\\n    <tr>\\n      <th>n_col</th>\\n      <td>12</td>\\n    </tr>\\n    <tr>\\n      <th>n_missing_cell</th>\\n      <td>866</td>\\n    </tr>\\n    <tr>\\n      <th>n_empty_row</th>\\n      <td>0</td>\\n    </tr>\\n    <tr>\\n      <th>n_duplicated_row</th>\\n      <td>0</td>\\n    </tr>\\n    <tr>\\n      <th>n_Useless_var</th>\\n      <td>2</td>\\n    </tr>\\n    <tr>\\n      <th>n_Binary_var</th>\\n      <td>2</td>\\n    </tr>\\n    <tr>\\n      <th>n_Nominal_var</th>\\n      <td>3</td>\\n    </tr>\\n    <tr>\\n      <th>n_Interval_var</th>\\n      <td>5</td>\\n    </tr>\\n  </tbody>\\n</table>'"
      ]
     },
     "execution_count": 42,
     "metadata": {},
     "output_type": "execute_result"
    }
   ],
   "source": [
    "str_[3]"
   ]
  },
  {
   "cell_type": "code",
   "execution_count": 45,
   "metadata": {},
   "outputs": [],
   "source": [
    "tmp = '<th></th>\\n      <th>count</th>\\n    </tr>\\n  </thead>\\n  <tbody>\\n    <tr>\\n      <th>n_row</th>\\n      <td>891</td>\\n    </tr>\\n    <tr>\\n      <th>n_col</th>\\n      <td>12</td>\\n    </tr>\\n    <tr>\\n      <th>n_missing_cell</th>\\n      <td>866</td>\\n    </tr>\\n    <tr>\\n      <th>n_empty_row</th>\\n      <td>0</td>\\n    </tr>\\n    <tr>\\n      <th>n_duplicated_row</th>\\n      <td>0</td>\\n    </tr>\\n    <tr>\\n      <th>n_Useless_var</th>\\n      <td>2</td>\\n    </tr>\\n    <tr>\\n      <th>n_Binary_var</th>\\n      <td>2</td>\\n    </tr>\\n    <tr>\\n      <th>n_Nominal_var</th>\\n      <td>3</td>\\n    </tr>\\n    <tr>\\n      <th>n_Interval_var</th>\\n      <td>5</td>\\n    </tr>\\n  </tbody>\\n</table>'"
   ]
  },
  {
   "cell_type": "code",
   "execution_count": 23,
   "metadata": {},
   "outputs": [],
   "source": [
    "from fpdf import FPDF, HTMLMixin"
   ]
  },
  {
   "cell_type": "code",
   "execution_count": 43,
   "metadata": {},
   "outputs": [],
   "source": [
    "class HTML2PDF(FPDF, HTMLMixin):\n",
    "    pass\n",
    "\n",
    "\n",
    "pdf = HTML2PDF()\n",
    "pdf.set_font(\"Arial\", size=12)\n"
   ]
  },
  {
   "cell_type": "code",
   "execution_count": 44,
   "metadata": {},
   "outputs": [
    {
     "ename": "RuntimeError",
     "evalue": "Table column/cell width not specified, unable to continue",
     "output_type": "error",
     "traceback": [
      "\u001b[0;31m---------------------------------------------------------------------------\u001b[0m",
      "\u001b[0;31mIndexError\u001b[0m                                Traceback (most recent call last)",
      "\u001b[0;32m~/miniconda3/envs/ds_python3.7/lib/python3.7/site-packages/fpdf/html.py\u001b[0m in \u001b[0;36mhandle_data\u001b[0;34m(self, txt)\u001b[0m\n\u001b[1;32m     71\u001b[0m                 \u001b[0;32mtry\u001b[0m\u001b[0;34m:\u001b[0m\u001b[0;34m\u001b[0m\u001b[0;34m\u001b[0m\u001b[0m\n\u001b[0;32m---> 72\u001b[0;31m                     \u001b[0ml\u001b[0m \u001b[0;34m=\u001b[0m \u001b[0;34m[\u001b[0m\u001b[0mself\u001b[0m\u001b[0;34m.\u001b[0m\u001b[0mtable_col_width\u001b[0m\u001b[0;34m[\u001b[0m\u001b[0mself\u001b[0m\u001b[0;34m.\u001b[0m\u001b[0mtable_col_index\u001b[0m\u001b[0;34m]\u001b[0m\u001b[0;34m]\u001b[0m\u001b[0;34m\u001b[0m\u001b[0;34m\u001b[0m\u001b[0m\n\u001b[0m\u001b[1;32m     73\u001b[0m                 \u001b[0;32mexcept\u001b[0m \u001b[0mIndexError\u001b[0m\u001b[0;34m:\u001b[0m\u001b[0;34m\u001b[0m\u001b[0;34m\u001b[0m\u001b[0m\n",
      "\u001b[0;31mIndexError\u001b[0m: list index out of range",
      "\nDuring handling of the above exception, another exception occurred:\n",
      "\u001b[0;31mRuntimeError\u001b[0m                              Traceback (most recent call last)",
      "\u001b[0;32m<ipython-input-44-531b23398035>\u001b[0m in \u001b[0;36m<module>\u001b[0;34m\u001b[0m\n\u001b[1;32m      1\u001b[0m \u001b[0mpdf\u001b[0m\u001b[0;34m.\u001b[0m\u001b[0madd_page\u001b[0m\u001b[0;34m(\u001b[0m\u001b[0;34m)\u001b[0m\u001b[0;34m\u001b[0m\u001b[0;34m\u001b[0m\u001b[0m\n\u001b[0;32m----> 2\u001b[0;31m \u001b[0mpdf\u001b[0m\u001b[0;34m.\u001b[0m\u001b[0mwrite_html\u001b[0m\u001b[0;34m(\u001b[0m\u001b[0mstr_\u001b[0m\u001b[0;34m[\u001b[0m\u001b[0;36m3\u001b[0m\u001b[0;34m]\u001b[0m\u001b[0;34m)\u001b[0m\u001b[0;34m\u001b[0m\u001b[0;34m\u001b[0m\u001b[0m\n\u001b[0m",
      "\u001b[0;32m~/miniconda3/envs/ds_python3.7/lib/python3.7/site-packages/fpdf/html.py\u001b[0m in \u001b[0;36mwrite_html\u001b[0;34m(self, text, image_map)\u001b[0m\n\u001b[1;32m    399\u001b[0m         \u001b[0mh2p\u001b[0m \u001b[0;34m=\u001b[0m \u001b[0mHTML2FPDF\u001b[0m\u001b[0;34m(\u001b[0m\u001b[0mself\u001b[0m\u001b[0;34m,\u001b[0m \u001b[0mimage_map\u001b[0m\u001b[0;34m)\u001b[0m\u001b[0;34m\u001b[0m\u001b[0;34m\u001b[0m\u001b[0m\n\u001b[1;32m    400\u001b[0m         \u001b[0mtext\u001b[0m \u001b[0;34m=\u001b[0m \u001b[0mh2p\u001b[0m\u001b[0;34m.\u001b[0m\u001b[0munescape\u001b[0m\u001b[0;34m(\u001b[0m\u001b[0mtext\u001b[0m\u001b[0;34m)\u001b[0m \u001b[0;31m# To deal with HTML entities\u001b[0m\u001b[0;34m\u001b[0m\u001b[0;34m\u001b[0m\u001b[0m\n\u001b[0;32m--> 401\u001b[0;31m         \u001b[0mh2p\u001b[0m\u001b[0;34m.\u001b[0m\u001b[0mfeed\u001b[0m\u001b[0;34m(\u001b[0m\u001b[0mtext\u001b[0m\u001b[0;34m)\u001b[0m\u001b[0;34m\u001b[0m\u001b[0;34m\u001b[0m\u001b[0m\n\u001b[0m\u001b[1;32m    402\u001b[0m \u001b[0;34m\u001b[0m\u001b[0m\n",
      "\u001b[0;32m~/miniconda3/envs/ds_python3.7/lib/python3.7/html/parser.py\u001b[0m in \u001b[0;36mfeed\u001b[0;34m(self, data)\u001b[0m\n\u001b[1;32m    109\u001b[0m         \"\"\"\n\u001b[1;32m    110\u001b[0m         \u001b[0mself\u001b[0m\u001b[0;34m.\u001b[0m\u001b[0mrawdata\u001b[0m \u001b[0;34m=\u001b[0m \u001b[0mself\u001b[0m\u001b[0;34m.\u001b[0m\u001b[0mrawdata\u001b[0m \u001b[0;34m+\u001b[0m \u001b[0mdata\u001b[0m\u001b[0;34m\u001b[0m\u001b[0;34m\u001b[0m\u001b[0m\n\u001b[0;32m--> 111\u001b[0;31m         \u001b[0mself\u001b[0m\u001b[0;34m.\u001b[0m\u001b[0mgoahead\u001b[0m\u001b[0;34m(\u001b[0m\u001b[0;36m0\u001b[0m\u001b[0;34m)\u001b[0m\u001b[0;34m\u001b[0m\u001b[0;34m\u001b[0m\u001b[0m\n\u001b[0m\u001b[1;32m    112\u001b[0m \u001b[0;34m\u001b[0m\u001b[0m\n\u001b[1;32m    113\u001b[0m     \u001b[0;32mdef\u001b[0m \u001b[0mclose\u001b[0m\u001b[0;34m(\u001b[0m\u001b[0mself\u001b[0m\u001b[0;34m)\u001b[0m\u001b[0;34m:\u001b[0m\u001b[0;34m\u001b[0m\u001b[0;34m\u001b[0m\u001b[0m\n",
      "\u001b[0;32m~/miniconda3/envs/ds_python3.7/lib/python3.7/html/parser.py\u001b[0m in \u001b[0;36mgoahead\u001b[0;34m(self, end)\u001b[0m\n\u001b[1;32m    161\u001b[0m             \u001b[0;32mif\u001b[0m \u001b[0mi\u001b[0m \u001b[0;34m<\u001b[0m \u001b[0mj\u001b[0m\u001b[0;34m:\u001b[0m\u001b[0;34m\u001b[0m\u001b[0;34m\u001b[0m\u001b[0m\n\u001b[1;32m    162\u001b[0m                 \u001b[0;32mif\u001b[0m \u001b[0mself\u001b[0m\u001b[0;34m.\u001b[0m\u001b[0mconvert_charrefs\u001b[0m \u001b[0;32mand\u001b[0m \u001b[0;32mnot\u001b[0m \u001b[0mself\u001b[0m\u001b[0;34m.\u001b[0m\u001b[0mcdata_elem\u001b[0m\u001b[0;34m:\u001b[0m\u001b[0;34m\u001b[0m\u001b[0;34m\u001b[0m\u001b[0m\n\u001b[0;32m--> 163\u001b[0;31m                     \u001b[0mself\u001b[0m\u001b[0;34m.\u001b[0m\u001b[0mhandle_data\u001b[0m\u001b[0;34m(\u001b[0m\u001b[0munescape\u001b[0m\u001b[0;34m(\u001b[0m\u001b[0mrawdata\u001b[0m\u001b[0;34m[\u001b[0m\u001b[0mi\u001b[0m\u001b[0;34m:\u001b[0m\u001b[0mj\u001b[0m\u001b[0;34m]\u001b[0m\u001b[0;34m)\u001b[0m\u001b[0;34m)\u001b[0m\u001b[0;34m\u001b[0m\u001b[0;34m\u001b[0m\u001b[0m\n\u001b[0m\u001b[1;32m    164\u001b[0m                 \u001b[0;32melse\u001b[0m\u001b[0;34m:\u001b[0m\u001b[0;34m\u001b[0m\u001b[0;34m\u001b[0m\u001b[0m\n\u001b[1;32m    165\u001b[0m                     \u001b[0mself\u001b[0m\u001b[0;34m.\u001b[0m\u001b[0mhandle_data\u001b[0m\u001b[0;34m(\u001b[0m\u001b[0mrawdata\u001b[0m\u001b[0;34m[\u001b[0m\u001b[0mi\u001b[0m\u001b[0;34m:\u001b[0m\u001b[0mj\u001b[0m\u001b[0;34m]\u001b[0m\u001b[0;34m)\u001b[0m\u001b[0;34m\u001b[0m\u001b[0;34m\u001b[0m\u001b[0m\n",
      "\u001b[0;32m~/miniconda3/envs/ds_python3.7/lib/python3.7/site-packages/fpdf/html.py\u001b[0m in \u001b[0;36mhandle_data\u001b[0;34m(self, txt)\u001b[0m\n\u001b[1;32m     72\u001b[0m                     \u001b[0ml\u001b[0m \u001b[0;34m=\u001b[0m \u001b[0;34m[\u001b[0m\u001b[0mself\u001b[0m\u001b[0;34m.\u001b[0m\u001b[0mtable_col_width\u001b[0m\u001b[0;34m[\u001b[0m\u001b[0mself\u001b[0m\u001b[0;34m.\u001b[0m\u001b[0mtable_col_index\u001b[0m\u001b[0;34m]\u001b[0m\u001b[0;34m]\u001b[0m\u001b[0;34m\u001b[0m\u001b[0;34m\u001b[0m\u001b[0m\n\u001b[1;32m     73\u001b[0m                 \u001b[0;32mexcept\u001b[0m \u001b[0mIndexError\u001b[0m\u001b[0;34m:\u001b[0m\u001b[0;34m\u001b[0m\u001b[0;34m\u001b[0m\u001b[0m\n\u001b[0;32m---> 74\u001b[0;31m                     \u001b[0;32mraise\u001b[0m \u001b[0mRuntimeError\u001b[0m\u001b[0;34m(\u001b[0m\u001b[0;34m\"Table column/cell width not specified, unable to continue\"\u001b[0m\u001b[0;34m)\u001b[0m\u001b[0;34m\u001b[0m\u001b[0;34m\u001b[0m\u001b[0m\n\u001b[0m\u001b[1;32m     75\u001b[0m             \u001b[0;32melif\u001b[0m \u001b[0;34m'colspan'\u001b[0m \u001b[0;32min\u001b[0m \u001b[0mself\u001b[0m\u001b[0;34m.\u001b[0m\u001b[0mtd\u001b[0m\u001b[0;34m:\u001b[0m\u001b[0;34m\u001b[0m\u001b[0;34m\u001b[0m\u001b[0m\n\u001b[1;32m     76\u001b[0m                 \u001b[0mi\u001b[0m \u001b[0;34m=\u001b[0m \u001b[0mself\u001b[0m\u001b[0;34m.\u001b[0m\u001b[0mtable_col_index\u001b[0m\u001b[0;34m\u001b[0m\u001b[0;34m\u001b[0m\u001b[0m\n",
      "\u001b[0;31mRuntimeError\u001b[0m: Table column/cell width not specified, unable to continue"
     ]
    }
   ],
   "source": [
    "pdf.add_page()\n",
    "pdf.write_html(str_[3])"
   ]
  },
  {
   "cell_type": "code",
   "execution_count": 40,
   "metadata": {},
   "outputs": [
    {
     "ename": "RuntimeError",
     "evalue": "Table column/cell width not specified, unable to continue",
     "output_type": "error",
     "traceback": [
      "\u001b[0;31m---------------------------------------------------------------------------\u001b[0m",
      "\u001b[0;31mIndexError\u001b[0m                                Traceback (most recent call last)",
      "\u001b[0;32m~/miniconda3/envs/ds_python3.7/lib/python3.7/site-packages/fpdf/html.py\u001b[0m in \u001b[0;36mhandle_data\u001b[0;34m(self, txt)\u001b[0m\n\u001b[1;32m     71\u001b[0m                 \u001b[0;32mtry\u001b[0m\u001b[0;34m:\u001b[0m\u001b[0;34m\u001b[0m\u001b[0;34m\u001b[0m\u001b[0m\n\u001b[0;32m---> 72\u001b[0;31m                     \u001b[0ml\u001b[0m \u001b[0;34m=\u001b[0m \u001b[0;34m[\u001b[0m\u001b[0mself\u001b[0m\u001b[0;34m.\u001b[0m\u001b[0mtable_col_width\u001b[0m\u001b[0;34m[\u001b[0m\u001b[0mself\u001b[0m\u001b[0;34m.\u001b[0m\u001b[0mtable_col_index\u001b[0m\u001b[0;34m]\u001b[0m\u001b[0;34m]\u001b[0m\u001b[0;34m\u001b[0m\u001b[0;34m\u001b[0m\u001b[0m\n\u001b[0m\u001b[1;32m     73\u001b[0m                 \u001b[0;32mexcept\u001b[0m \u001b[0mIndexError\u001b[0m\u001b[0;34m:\u001b[0m\u001b[0;34m\u001b[0m\u001b[0;34m\u001b[0m\u001b[0m\n",
      "\u001b[0;31mIndexError\u001b[0m: list index out of range",
      "\nDuring handling of the above exception, another exception occurred:\n",
      "\u001b[0;31mRuntimeError\u001b[0m                              Traceback (most recent call last)",
      "\u001b[0;32m<ipython-input-40-fb3751cbabe7>\u001b[0m in \u001b[0;36m<module>\u001b[0;34m\u001b[0m\n\u001b[1;32m      1\u001b[0m \u001b[0;32mfor\u001b[0m \u001b[0mitem\u001b[0m \u001b[0;32min\u001b[0m \u001b[0mstr_\u001b[0m\u001b[0;34m:\u001b[0m\u001b[0;34m\u001b[0m\u001b[0;34m\u001b[0m\u001b[0m\n\u001b[1;32m      2\u001b[0m     \u001b[0mpdf\u001b[0m\u001b[0;34m.\u001b[0m\u001b[0madd_page\u001b[0m\u001b[0;34m(\u001b[0m\u001b[0;34m)\u001b[0m\u001b[0;34m\u001b[0m\u001b[0;34m\u001b[0m\u001b[0m\n\u001b[0;32m----> 3\u001b[0;31m     \u001b[0mpdf\u001b[0m\u001b[0;34m.\u001b[0m\u001b[0mwrite_html\u001b[0m\u001b[0;34m(\u001b[0m\u001b[0mitem\u001b[0m\u001b[0;34m)\u001b[0m\u001b[0;34m\u001b[0m\u001b[0;34m\u001b[0m\u001b[0m\n\u001b[0m",
      "\u001b[0;32m~/miniconda3/envs/ds_python3.7/lib/python3.7/site-packages/fpdf/html.py\u001b[0m in \u001b[0;36mwrite_html\u001b[0;34m(self, text, image_map)\u001b[0m\n\u001b[1;32m    399\u001b[0m         \u001b[0mh2p\u001b[0m \u001b[0;34m=\u001b[0m \u001b[0mHTML2FPDF\u001b[0m\u001b[0;34m(\u001b[0m\u001b[0mself\u001b[0m\u001b[0;34m,\u001b[0m \u001b[0mimage_map\u001b[0m\u001b[0;34m)\u001b[0m\u001b[0;34m\u001b[0m\u001b[0;34m\u001b[0m\u001b[0m\n\u001b[1;32m    400\u001b[0m         \u001b[0mtext\u001b[0m \u001b[0;34m=\u001b[0m \u001b[0mh2p\u001b[0m\u001b[0;34m.\u001b[0m\u001b[0munescape\u001b[0m\u001b[0;34m(\u001b[0m\u001b[0mtext\u001b[0m\u001b[0;34m)\u001b[0m \u001b[0;31m# To deal with HTML entities\u001b[0m\u001b[0;34m\u001b[0m\u001b[0;34m\u001b[0m\u001b[0m\n\u001b[0;32m--> 401\u001b[0;31m         \u001b[0mh2p\u001b[0m\u001b[0;34m.\u001b[0m\u001b[0mfeed\u001b[0m\u001b[0;34m(\u001b[0m\u001b[0mtext\u001b[0m\u001b[0;34m)\u001b[0m\u001b[0;34m\u001b[0m\u001b[0;34m\u001b[0m\u001b[0m\n\u001b[0m\u001b[1;32m    402\u001b[0m \u001b[0;34m\u001b[0m\u001b[0m\n",
      "\u001b[0;32m~/miniconda3/envs/ds_python3.7/lib/python3.7/html/parser.py\u001b[0m in \u001b[0;36mfeed\u001b[0;34m(self, data)\u001b[0m\n\u001b[1;32m    109\u001b[0m         \"\"\"\n\u001b[1;32m    110\u001b[0m         \u001b[0mself\u001b[0m\u001b[0;34m.\u001b[0m\u001b[0mrawdata\u001b[0m \u001b[0;34m=\u001b[0m \u001b[0mself\u001b[0m\u001b[0;34m.\u001b[0m\u001b[0mrawdata\u001b[0m \u001b[0;34m+\u001b[0m \u001b[0mdata\u001b[0m\u001b[0;34m\u001b[0m\u001b[0;34m\u001b[0m\u001b[0m\n\u001b[0;32m--> 111\u001b[0;31m         \u001b[0mself\u001b[0m\u001b[0;34m.\u001b[0m\u001b[0mgoahead\u001b[0m\u001b[0;34m(\u001b[0m\u001b[0;36m0\u001b[0m\u001b[0;34m)\u001b[0m\u001b[0;34m\u001b[0m\u001b[0;34m\u001b[0m\u001b[0m\n\u001b[0m\u001b[1;32m    112\u001b[0m \u001b[0;34m\u001b[0m\u001b[0m\n\u001b[1;32m    113\u001b[0m     \u001b[0;32mdef\u001b[0m \u001b[0mclose\u001b[0m\u001b[0;34m(\u001b[0m\u001b[0mself\u001b[0m\u001b[0;34m)\u001b[0m\u001b[0;34m:\u001b[0m\u001b[0;34m\u001b[0m\u001b[0;34m\u001b[0m\u001b[0m\n",
      "\u001b[0;32m~/miniconda3/envs/ds_python3.7/lib/python3.7/html/parser.py\u001b[0m in \u001b[0;36mgoahead\u001b[0;34m(self, end)\u001b[0m\n\u001b[1;32m    161\u001b[0m             \u001b[0;32mif\u001b[0m \u001b[0mi\u001b[0m \u001b[0;34m<\u001b[0m \u001b[0mj\u001b[0m\u001b[0;34m:\u001b[0m\u001b[0;34m\u001b[0m\u001b[0;34m\u001b[0m\u001b[0m\n\u001b[1;32m    162\u001b[0m                 \u001b[0;32mif\u001b[0m \u001b[0mself\u001b[0m\u001b[0;34m.\u001b[0m\u001b[0mconvert_charrefs\u001b[0m \u001b[0;32mand\u001b[0m \u001b[0;32mnot\u001b[0m \u001b[0mself\u001b[0m\u001b[0;34m.\u001b[0m\u001b[0mcdata_elem\u001b[0m\u001b[0;34m:\u001b[0m\u001b[0;34m\u001b[0m\u001b[0;34m\u001b[0m\u001b[0m\n\u001b[0;32m--> 163\u001b[0;31m                     \u001b[0mself\u001b[0m\u001b[0;34m.\u001b[0m\u001b[0mhandle_data\u001b[0m\u001b[0;34m(\u001b[0m\u001b[0munescape\u001b[0m\u001b[0;34m(\u001b[0m\u001b[0mrawdata\u001b[0m\u001b[0;34m[\u001b[0m\u001b[0mi\u001b[0m\u001b[0;34m:\u001b[0m\u001b[0mj\u001b[0m\u001b[0;34m]\u001b[0m\u001b[0;34m)\u001b[0m\u001b[0;34m)\u001b[0m\u001b[0;34m\u001b[0m\u001b[0;34m\u001b[0m\u001b[0m\n\u001b[0m\u001b[1;32m    164\u001b[0m                 \u001b[0;32melse\u001b[0m\u001b[0;34m:\u001b[0m\u001b[0;34m\u001b[0m\u001b[0;34m\u001b[0m\u001b[0m\n\u001b[1;32m    165\u001b[0m                     \u001b[0mself\u001b[0m\u001b[0;34m.\u001b[0m\u001b[0mhandle_data\u001b[0m\u001b[0;34m(\u001b[0m\u001b[0mrawdata\u001b[0m\u001b[0;34m[\u001b[0m\u001b[0mi\u001b[0m\u001b[0;34m:\u001b[0m\u001b[0mj\u001b[0m\u001b[0;34m]\u001b[0m\u001b[0;34m)\u001b[0m\u001b[0;34m\u001b[0m\u001b[0;34m\u001b[0m\u001b[0m\n",
      "\u001b[0;32m~/miniconda3/envs/ds_python3.7/lib/python3.7/site-packages/fpdf/html.py\u001b[0m in \u001b[0;36mhandle_data\u001b[0;34m(self, txt)\u001b[0m\n\u001b[1;32m     72\u001b[0m                     \u001b[0ml\u001b[0m \u001b[0;34m=\u001b[0m \u001b[0;34m[\u001b[0m\u001b[0mself\u001b[0m\u001b[0;34m.\u001b[0m\u001b[0mtable_col_width\u001b[0m\u001b[0;34m[\u001b[0m\u001b[0mself\u001b[0m\u001b[0;34m.\u001b[0m\u001b[0mtable_col_index\u001b[0m\u001b[0;34m]\u001b[0m\u001b[0;34m]\u001b[0m\u001b[0;34m\u001b[0m\u001b[0;34m\u001b[0m\u001b[0m\n\u001b[1;32m     73\u001b[0m                 \u001b[0;32mexcept\u001b[0m \u001b[0mIndexError\u001b[0m\u001b[0;34m:\u001b[0m\u001b[0;34m\u001b[0m\u001b[0;34m\u001b[0m\u001b[0m\n\u001b[0;32m---> 74\u001b[0;31m                     \u001b[0;32mraise\u001b[0m \u001b[0mRuntimeError\u001b[0m\u001b[0;34m(\u001b[0m\u001b[0;34m\"Table column/cell width not specified, unable to continue\"\u001b[0m\u001b[0;34m)\u001b[0m\u001b[0;34m\u001b[0m\u001b[0;34m\u001b[0m\u001b[0m\n\u001b[0m\u001b[1;32m     75\u001b[0m             \u001b[0;32melif\u001b[0m \u001b[0;34m'colspan'\u001b[0m \u001b[0;32min\u001b[0m \u001b[0mself\u001b[0m\u001b[0;34m.\u001b[0m\u001b[0mtd\u001b[0m\u001b[0;34m:\u001b[0m\u001b[0;34m\u001b[0m\u001b[0;34m\u001b[0m\u001b[0m\n\u001b[1;32m     76\u001b[0m                 \u001b[0mi\u001b[0m \u001b[0;34m=\u001b[0m \u001b[0mself\u001b[0m\u001b[0;34m.\u001b[0m\u001b[0mtable_col_index\u001b[0m\u001b[0;34m\u001b[0m\u001b[0;34m\u001b[0m\u001b[0m\n",
      "\u001b[0;31mRuntimeError\u001b[0m: Table column/cell width not specified, unable to continue"
     ]
    }
   ],
   "source": [
    "for item in str_:\n",
    "    pdf.add_page()\n",
    "    pdf.write_html(item)"
   ]
  },
  {
   "cell_type": "code",
   "execution_count": 27,
   "metadata": {},
   "outputs": [
    {
     "data": {
      "text/plain": [
       "''"
      ]
     },
     "execution_count": 27,
     "metadata": {},
     "output_type": "execute_result"
    }
   ],
   "source": [
    "pdf.output('simple_table_html.pdf')"
   ]
  },
  {
   "cell_type": "code",
   "execution_count": 28,
   "metadata": {},
   "outputs": [
    {
     "data": {
      "text/plain": [
       "'================================== Beginning of report ==================================='"
      ]
     },
     "execution_count": 28,
     "metadata": {},
     "output_type": "execute_result"
    }
   ],
   "source": [
    "str_[0]"
   ]
  },
  {
   "cell_type": "code",
   "execution_count": null,
   "metadata": {},
   "outputs": [],
   "source": []
  }
 ],
 "metadata": {
  "kernelspec": {
   "display_name": "ds_python3.7",
   "language": "python",
   "name": "mykernel"
  },
  "language_info": {
   "codemirror_mode": {
    "name": "ipython",
    "version": 3
   },
   "file_extension": ".py",
   "mimetype": "text/x-python",
   "name": "python",
   "nbconvert_exporter": "python",
   "pygments_lexer": "ipython3",
   "version": "3.7.6"
  },
  "toc": {
   "base_numbering": 1,
   "nav_menu": {},
   "number_sections": true,
   "sideBar": true,
   "skip_h1_title": false,
   "title_cell": "Table of Contents",
   "title_sidebar": "Contents",
   "toc_cell": false,
   "toc_position": {},
   "toc_section_display": true,
   "toc_window_display": false
  }
 },
 "nbformat": 4,
 "nbformat_minor": 4
}
