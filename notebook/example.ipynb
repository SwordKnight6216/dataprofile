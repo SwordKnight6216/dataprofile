{
 "cells": [
  {
   "cell_type": "code",
   "execution_count": 1,
   "metadata": {
    "ExecuteTime": {
     "end_time": "2020-04-14T23:02:50.356699Z",
     "start_time": "2020-04-14T23:02:49.773722Z"
    }
   },
   "outputs": [],
   "source": [
    "import pandas as pd\n",
    "import dataprofile\n",
    "from dataprofile import ProfileReport"
   ]
  },
  {
   "cell_type": "code",
   "execution_count": 2,
   "metadata": {
    "ExecuteTime": {
     "end_time": "2020-04-14T23:02:50.394844Z",
     "start_time": "2020-04-14T23:02:50.360511Z"
    }
   },
   "outputs": [],
   "source": [
    "%load_ext autoreload\n",
    "%autoreload 2"
   ]
  },
  {
   "cell_type": "code",
   "execution_count": 3,
   "metadata": {},
   "outputs": [
    {
     "data": {
      "text/plain": [
       "['ProfileReport',\n",
       " '__all__',\n",
       " '__builtins__',\n",
       " '__cached__',\n",
       " '__doc__',\n",
       " '__file__',\n",
       " '__loader__',\n",
       " '__name__',\n",
       " '__package__',\n",
       " '__path__',\n",
       " '__spec__',\n",
       " '_config',\n",
       " '_monitor',\n",
       " '_profiling',\n",
       " '_var_statistics',\n",
       " 'get_df_profile',\n",
       " 'get_var_summary',\n",
       " 'render_report',\n",
       " 'reporting']"
      ]
     },
     "execution_count": 3,
     "metadata": {},
     "output_type": "execute_result"
    }
   ],
   "source": [
    "dir(dataprofile)"
   ]
  },
  {
   "cell_type": "code",
   "execution_count": 4,
   "metadata": {
    "ExecuteTime": {
     "end_time": "2020-04-14T23:02:50.439264Z",
     "start_time": "2020-04-14T23:02:50.397042Z"
    }
   },
   "outputs": [
    {
     "data": {
      "text/plain": [
       "(891, 12)"
      ]
     },
     "execution_count": 4,
     "metadata": {},
     "output_type": "execute_result"
    }
   ],
   "source": [
    "df = pd.read_csv('../data/titanic/train.csv')\n",
    "df.shape"
   ]
  },
  {
   "cell_type": "code",
   "execution_count": 5,
   "metadata": {
    "ExecuteTime": {
     "end_time": "2020-04-14T23:02:50.471555Z",
     "start_time": "2020-04-14T23:02:50.441933Z"
    }
   },
   "outputs": [],
   "source": [
    "report = ProfileReport()"
   ]
  },
  {
   "cell_type": "code",
   "execution_count": 6,
   "metadata": {
    "scrolled": true
   },
   "outputs": [
    {
     "data": {
      "text/plain": [
       "{'num_works': -1, 'random_state': 0, 'sample_size': -1, 'var_per_row': 6}"
      ]
     },
     "execution_count": 6,
     "metadata": {},
     "output_type": "execute_result"
    }
   ],
   "source": [
    "report.get_params()"
   ]
  },
  {
   "cell_type": "code",
   "execution_count": 7,
   "metadata": {
    "scrolled": false
   },
   "outputs": [
    {
     "name": "stderr",
     "output_type": "stream",
     "text": [
      "2020-04-17 at 16:45:53|INFO|Profiling variables: 100%|████████████████████████████████████████12/12\n"
     ]
    },
    {
     "data": {
      "text/plain": [
       "ProfileReport(num_works=-1, random_state=0, sample_size=-1, var_per_row=6)"
      ]
     },
     "execution_count": 7,
     "metadata": {},
     "output_type": "execute_result"
    }
   ],
   "source": [
    "report.fit(df)"
   ]
  },
  {
   "cell_type": "code",
   "execution_count": 8,
   "metadata": {
    "ExecuteTime": {
     "end_time": "2020-04-14T23:02:50.739338Z",
     "start_time": "2020-04-14T23:02:50.473751Z"
    }
   },
   "outputs": [
    {
     "name": "stdout",
     "output_type": "stream",
     "text": [
      "================================== Beginning of report ===================================\n",
      "\n",
      "This following report is created by Gordon Chen on Friday, Apr 17, 2020\n",
      "\n",
      "================ Table Statistics ================\n",
      "+------------------+---------+\n",
      "|                  |   count |\n",
      "|------------------+---------|\n",
      "| n_row            |     891 |\n",
      "| n_col            |      12 |\n",
      "| n_missing_cell   |     866 |\n",
      "| n_empty_row      |       0 |\n",
      "| n_duplicated_row |       0 |\n",
      "| n_Useless_var    |       2 |\n",
      "| n_Binary_var     |       2 |\n",
      "| n_Nominal_var    |       3 |\n",
      "| n_Interval_var   |       5 |\n",
      "+------------------+---------+\n",
      "\n",
      "\n",
      "================ Variable Summary ================\n",
      "+-------------+----------+-------------+---------+-------------+-------------+------------+------------+\n",
      "|             | type     | data_type   |   count |   n_missing | p_missing   |   n_unique | p_unique   |\n",
      "|-------------+----------+-------------+---------+-------------+-------------+------------+------------|\n",
      "| PassengerId | Useless  | Unique      |     891 |           0 | 0.00%       |        891 | 100.00%    |\n",
      "| Name        | Useless  | Unique      |     891 |           0 | 0.00%       |        891 | 100.00%    |\n",
      "| Survived    | Binary   | Numerical   |     891 |           0 | 0.00%       |          2 | 0.22%      |\n",
      "| Sex         | Binary   | Categorical |     891 |           0 | 0.00%       |          2 | 0.22%      |\n",
      "| Cabin       | Nominal  | Categorical |     891 |         687 | 77.10%      |        147 | 72.06%     |\n",
      "| Ticket      | Nominal  | Categorical |     891 |           0 | 0.00%       |        681 | 76.43%     |\n",
      "| Embarked    | Nominal  | Categorical |     891 |           2 | 0.22%       |          3 | 0.34%      |\n",
      "| Pclass      | Interval | Numerical   |     891 |           0 | 0.00%       |          3 | 0.34%      |\n",
      "| SibSp       | Interval | Numerical   |     891 |           0 | 0.00%       |          7 | 0.79%      |\n",
      "| Parch       | Interval | Numerical   |     891 |           0 | 0.00%       |          7 | 0.79%      |\n",
      "| Age         | Interval | Numerical   |     891 |         177 | 19.87%      |         88 | 12.32%     |\n",
      "| Fare        | Interval | Numerical   |     891 |           0 | 0.00%       |        248 | 27.83%     |\n",
      "+-------------+----------+-------------+---------+-------------+-------------+------------+------------+\n",
      "\n",
      "\n",
      "============== Variable Statistics ===============\n",
      "\n",
      "Useless variables:\n",
      "+-----------+---------------+---------+\n",
      "|           | PassengerId   | Name    |\n",
      "|-----------+---------------+---------|\n",
      "| count     | 891           | 891     |\n",
      "| n_missing | 0             | 0       |\n",
      "| p_missing | 0.00%         | 0.00%   |\n",
      "| n_unique  | 891           | 891     |\n",
      "| p_unique  | 100.00%       | 100.00% |\n",
      "+-----------+---------------+---------+\n",
      "\n",
      "Binary variables:\n",
      "+-----------+------------+--------+\n",
      "|           | Survived   | Sex    |\n",
      "|-----------+------------+--------|\n",
      "| count     | 891        | 891    |\n",
      "| n_missing | 0          | 0      |\n",
      "| p_missing | 0.00%      | 0.00%  |\n",
      "| n_unique  | 2          | 2      |\n",
      "| p_unique  | 0.22%      | 0.22%  |\n",
      "| value1    | 0          | male   |\n",
      "| n_value1  | 549        | 577    |\n",
      "| p_value1  | 61.62%     | 64.76% |\n",
      "| value2    | 1          | female |\n",
      "| n_value2  | 342        | 314    |\n",
      "| p_value2  | 38.38%     | 35.24% |\n",
      "+-----------+------------+--------+\n",
      "\n",
      "Nominal variables:\n",
      "+----------------+-------------+----------+------------+\n",
      "|                | Cabin       | Ticket   | Embarked   |\n",
      "|----------------+-------------+----------+------------|\n",
      "| count          | 891         | 891      | 891        |\n",
      "| n_missing      | 687         | 0        | 2          |\n",
      "| p_missing      | 77.10%      | 0.00%    | 0.22%      |\n",
      "| n_unique       | 147         | 681      | 3          |\n",
      "| p_unique       | 72.06%      | 76.43%   | 0.34%      |\n",
      "| mode           | G6          | 1601     | S          |\n",
      "| mode_freq      | 4           | 7        | 644        |\n",
      "| 2nd_freq_value | C23 C25 C27 | CA. 2343 | C          |\n",
      "| 2nd_freq       | 4           | 7        | 168        |\n",
      "| 3rd_freq_value | B96 B98     | 347082   | Q          |\n",
      "| 3rd_freq       | 4           | 7        | 77         |\n",
      "+----------------+-------------+----------+------------+\n",
      "\n",
      "Interval variables:\n",
      "+--------------+----------+---------+---------+-------------+-------------+\n",
      "|              | Pclass   | SibSp   | Parch   | Age         | Fare        |\n",
      "|--------------+----------+---------+---------+-------------+-------------|\n",
      "| count        | 891      | 891     | 891     | 891         | 891         |\n",
      "| n_missing    | 0        | 0       | 0       | 177         | 0           |\n",
      "| p_missing    | 0.00%    | 0.00%   | 0.00%   | 19.87%      | 0.00%       |\n",
      "| n_unique     | 3        | 7       | 7       | 88          | 248         |\n",
      "| p_unique     | 0.34%    | 0.79%   | 0.79%   | 12.32%      | 27.83%      |\n",
      "| mean         | 2.3086   | 0.5230  | 0.3816  | 29.6991     | 32.2042     |\n",
      "| std          | 0.8361   | 1.1027  | 0.8061  | 14.5265     | 49.6934     |\n",
      "| variance     | 0.6990   | 1.2160  | 0.6497  | 211.0191    | 2,469.4368  |\n",
      "| min          | 1        | 0       | 0       | 0.4200      | 0.0000      |\n",
      "| 5%           | 1.0000   | 0.0000  | 0.0000  | 4.0000      | 7.2250      |\n",
      "| 25%          | 2.0000   | 0.0000  | 0.0000  | 20.1250     | 7.9104      |\n",
      "| 50%          | 3.0000   | 0.0000  | 0.0000  | 28.0000     | 14.4542     |\n",
      "| 75%          | 3.0000   | 1.0000  | 0.0000  | 38.0000     | 31.0000     |\n",
      "| 95%          | 3.0000   | 3.0000  | 2.0000  | 56.0000     | 112.0791    |\n",
      "| max          | 3        | 8       | 6       | 80.0000     | 512.3292    |\n",
      "| range        | 2        | 8       | 6       | 79.5800     | 512.3292    |\n",
      "| iqr          | 1.0000   | 1.0000  | 0.0000  | 17.8750     | 23.0896     |\n",
      "| kurtosis     | -1.2800  | 17.8804 | 9.7781  | 0.1783      | 33.3981     |\n",
      "| skewness     | -0.6305  | 3.6954  | 2.7491  | 0.3891      | 4.7873      |\n",
      "| sum          | 2,057    | 466     | 340     | 21,205.1700 | 28,693.9493 |\n",
      "| mean_abs_dev | 0.7620   | 0.7138  | 0.5807  | 11.3229     | 28.1637     |\n",
      "| coff_of_var  | 0.3621   | 2.1085  | 2.1123  | 0.4891      | 1.5431      |\n",
      "| n_zeros      | 0        | 608     | 678     | 0           | 15          |\n",
      "| p_zeros      | 0.0000   | 0.6824  | 0.7609  | 0.0000      | 0.0168      |\n",
      "+--------------+----------+---------+---------+-------------+-------------+\n",
      "\n",
      "\n",
      "================ Confusion Matrix ================\n",
      "row:Survived - col:Sex\n",
      "+----+----------+--------+\n",
      "|    |   female |   male |\n",
      "|----+----------+--------|\n",
      "|  0 |       81 |    468 |\n",
      "|  1 |      233 |    109 |\n",
      "+----+----------+--------+\n",
      "===================================== End of report ======================================\n"
     ]
    }
   ],
   "source": [
    "report.show_report()"
   ]
  },
  {
   "cell_type": "code",
   "execution_count": 9,
   "metadata": {
    "ExecuteTime": {
     "end_time": "2020-04-14T23:02:50.806607Z",
     "start_time": "2020-04-14T23:02:50.742798Z"
    },
    "scrolled": true
   },
   "outputs": [
    {
     "name": "stdout",
     "output_type": "stream",
     "text": [
      "Report saved to test.html\n"
     ]
    }
   ],
   "source": [
    "report.save_report('test.html')"
   ]
  },
  {
   "cell_type": "code",
   "execution_count": 10,
   "metadata": {
    "ExecuteTime": {
     "end_time": "2020-04-14T23:02:50.848839Z",
     "start_time": "2020-04-14T23:02:50.812461Z"
    }
   },
   "outputs": [
    {
     "data": {
      "text/plain": [
       "dict_keys(['table_stats', 'var_summary', 'var_stats', 'conf_matrix'])"
      ]
     },
     "execution_count": 10,
     "metadata": {},
     "output_type": "execute_result"
    }
   ],
   "source": [
    "profile_dict = report.df_profile\n",
    "profile_dict.keys()"
   ]
  },
  {
   "cell_type": "code",
   "execution_count": 11,
   "metadata": {
    "ExecuteTime": {
     "end_time": "2020-04-14T23:02:50.895820Z",
     "start_time": "2020-04-14T23:02:50.851475Z"
    }
   },
   "outputs": [
    {
     "data": {
      "text/html": [
       "<div>\n",
       "<style scoped>\n",
       "    .dataframe tbody tr th:only-of-type {\n",
       "        vertical-align: middle;\n",
       "    }\n",
       "\n",
       "    .dataframe tbody tr th {\n",
       "        vertical-align: top;\n",
       "    }\n",
       "\n",
       "    .dataframe thead th {\n",
       "        text-align: right;\n",
       "    }\n",
       "</style>\n",
       "<table border=\"1\" class=\"dataframe\">\n",
       "  <thead>\n",
       "    <tr style=\"text-align: right;\">\n",
       "      <th></th>\n",
       "      <th>count</th>\n",
       "    </tr>\n",
       "  </thead>\n",
       "  <tbody>\n",
       "    <tr>\n",
       "      <th>n_row</th>\n",
       "      <td>891</td>\n",
       "    </tr>\n",
       "    <tr>\n",
       "      <th>n_col</th>\n",
       "      <td>12</td>\n",
       "    </tr>\n",
       "    <tr>\n",
       "      <th>n_missing_cell</th>\n",
       "      <td>866</td>\n",
       "    </tr>\n",
       "    <tr>\n",
       "      <th>n_empty_row</th>\n",
       "      <td>0</td>\n",
       "    </tr>\n",
       "    <tr>\n",
       "      <th>n_duplicated_row</th>\n",
       "      <td>0</td>\n",
       "    </tr>\n",
       "    <tr>\n",
       "      <th>n_Useless_var</th>\n",
       "      <td>2</td>\n",
       "    </tr>\n",
       "    <tr>\n",
       "      <th>n_Binary_var</th>\n",
       "      <td>2</td>\n",
       "    </tr>\n",
       "    <tr>\n",
       "      <th>n_Nominal_var</th>\n",
       "      <td>3</td>\n",
       "    </tr>\n",
       "    <tr>\n",
       "      <th>n_Interval_var</th>\n",
       "      <td>5</td>\n",
       "    </tr>\n",
       "  </tbody>\n",
       "</table>\n",
       "</div>"
      ],
      "text/plain": [
       "                 count\n",
       "n_row              891\n",
       "n_col               12\n",
       "n_missing_cell     866\n",
       "n_empty_row          0\n",
       "n_duplicated_row     0\n",
       "n_Useless_var        2\n",
       "n_Binary_var         2\n",
       "n_Nominal_var        3\n",
       "n_Interval_var       5"
      ]
     },
     "execution_count": 11,
     "metadata": {},
     "output_type": "execute_result"
    }
   ],
   "source": [
    "profile_dict['table_stats']"
   ]
  },
  {
   "cell_type": "code",
   "execution_count": 12,
   "metadata": {
    "ExecuteTime": {
     "end_time": "2020-04-14T23:02:50.941116Z",
     "start_time": "2020-04-14T23:02:50.898038Z"
    }
   },
   "outputs": [
    {
     "data": {
      "text/html": [
       "<div>\n",
       "<style scoped>\n",
       "    .dataframe tbody tr th:only-of-type {\n",
       "        vertical-align: middle;\n",
       "    }\n",
       "\n",
       "    .dataframe tbody tr th {\n",
       "        vertical-align: top;\n",
       "    }\n",
       "\n",
       "    .dataframe thead th {\n",
       "        text-align: right;\n",
       "    }\n",
       "</style>\n",
       "<table border=\"1\" class=\"dataframe\">\n",
       "  <thead>\n",
       "    <tr style=\"text-align: right;\">\n",
       "      <th></th>\n",
       "      <th>type</th>\n",
       "      <th>data_type</th>\n",
       "      <th>count</th>\n",
       "      <th>n_missing</th>\n",
       "      <th>p_missing</th>\n",
       "      <th>n_unique</th>\n",
       "      <th>p_unique</th>\n",
       "    </tr>\n",
       "  </thead>\n",
       "  <tbody>\n",
       "    <tr>\n",
       "      <th>PassengerId</th>\n",
       "      <td>Useless</td>\n",
       "      <td>Unique</td>\n",
       "      <td>891</td>\n",
       "      <td>0</td>\n",
       "      <td>0.00%</td>\n",
       "      <td>891</td>\n",
       "      <td>100.00%</td>\n",
       "    </tr>\n",
       "    <tr>\n",
       "      <th>Name</th>\n",
       "      <td>Useless</td>\n",
       "      <td>Unique</td>\n",
       "      <td>891</td>\n",
       "      <td>0</td>\n",
       "      <td>0.00%</td>\n",
       "      <td>891</td>\n",
       "      <td>100.00%</td>\n",
       "    </tr>\n",
       "    <tr>\n",
       "      <th>Survived</th>\n",
       "      <td>Binary</td>\n",
       "      <td>Numerical</td>\n",
       "      <td>891</td>\n",
       "      <td>0</td>\n",
       "      <td>0.00%</td>\n",
       "      <td>2</td>\n",
       "      <td>0.22%</td>\n",
       "    </tr>\n",
       "    <tr>\n",
       "      <th>Sex</th>\n",
       "      <td>Binary</td>\n",
       "      <td>Categorical</td>\n",
       "      <td>891</td>\n",
       "      <td>0</td>\n",
       "      <td>0.00%</td>\n",
       "      <td>2</td>\n",
       "      <td>0.22%</td>\n",
       "    </tr>\n",
       "    <tr>\n",
       "      <th>Cabin</th>\n",
       "      <td>Nominal</td>\n",
       "      <td>Categorical</td>\n",
       "      <td>891</td>\n",
       "      <td>687</td>\n",
       "      <td>77.10%</td>\n",
       "      <td>147</td>\n",
       "      <td>72.06%</td>\n",
       "    </tr>\n",
       "    <tr>\n",
       "      <th>Ticket</th>\n",
       "      <td>Nominal</td>\n",
       "      <td>Categorical</td>\n",
       "      <td>891</td>\n",
       "      <td>0</td>\n",
       "      <td>0.00%</td>\n",
       "      <td>681</td>\n",
       "      <td>76.43%</td>\n",
       "    </tr>\n",
       "    <tr>\n",
       "      <th>Embarked</th>\n",
       "      <td>Nominal</td>\n",
       "      <td>Categorical</td>\n",
       "      <td>891</td>\n",
       "      <td>2</td>\n",
       "      <td>0.22%</td>\n",
       "      <td>3</td>\n",
       "      <td>0.34%</td>\n",
       "    </tr>\n",
       "    <tr>\n",
       "      <th>Pclass</th>\n",
       "      <td>Interval</td>\n",
       "      <td>Numerical</td>\n",
       "      <td>891</td>\n",
       "      <td>0</td>\n",
       "      <td>0.00%</td>\n",
       "      <td>3</td>\n",
       "      <td>0.34%</td>\n",
       "    </tr>\n",
       "    <tr>\n",
       "      <th>SibSp</th>\n",
       "      <td>Interval</td>\n",
       "      <td>Numerical</td>\n",
       "      <td>891</td>\n",
       "      <td>0</td>\n",
       "      <td>0.00%</td>\n",
       "      <td>7</td>\n",
       "      <td>0.79%</td>\n",
       "    </tr>\n",
       "    <tr>\n",
       "      <th>Parch</th>\n",
       "      <td>Interval</td>\n",
       "      <td>Numerical</td>\n",
       "      <td>891</td>\n",
       "      <td>0</td>\n",
       "      <td>0.00%</td>\n",
       "      <td>7</td>\n",
       "      <td>0.79%</td>\n",
       "    </tr>\n",
       "    <tr>\n",
       "      <th>Age</th>\n",
       "      <td>Interval</td>\n",
       "      <td>Numerical</td>\n",
       "      <td>891</td>\n",
       "      <td>177</td>\n",
       "      <td>19.87%</td>\n",
       "      <td>88</td>\n",
       "      <td>12.32%</td>\n",
       "    </tr>\n",
       "    <tr>\n",
       "      <th>Fare</th>\n",
       "      <td>Interval</td>\n",
       "      <td>Numerical</td>\n",
       "      <td>891</td>\n",
       "      <td>0</td>\n",
       "      <td>0.00%</td>\n",
       "      <td>248</td>\n",
       "      <td>27.83%</td>\n",
       "    </tr>\n",
       "  </tbody>\n",
       "</table>\n",
       "</div>"
      ],
      "text/plain": [
       "                 type    data_type count n_missing p_missing n_unique p_unique\n",
       "PassengerId   Useless       Unique   891         0     0.00%      891  100.00%\n",
       "Name          Useless       Unique   891         0     0.00%      891  100.00%\n",
       "Survived       Binary    Numerical   891         0     0.00%        2    0.22%\n",
       "Sex            Binary  Categorical   891         0     0.00%        2    0.22%\n",
       "Cabin         Nominal  Categorical   891       687    77.10%      147   72.06%\n",
       "Ticket        Nominal  Categorical   891         0     0.00%      681   76.43%\n",
       "Embarked      Nominal  Categorical   891         2     0.22%        3    0.34%\n",
       "Pclass       Interval    Numerical   891         0     0.00%        3    0.34%\n",
       "SibSp        Interval    Numerical   891         0     0.00%        7    0.79%\n",
       "Parch        Interval    Numerical   891         0     0.00%        7    0.79%\n",
       "Age          Interval    Numerical   891       177    19.87%       88   12.32%\n",
       "Fare         Interval    Numerical   891         0     0.00%      248   27.83%"
      ]
     },
     "execution_count": 12,
     "metadata": {},
     "output_type": "execute_result"
    }
   ],
   "source": [
    "profile_dict['var_summary']"
   ]
  },
  {
   "cell_type": "code",
   "execution_count": 13,
   "metadata": {
    "ExecuteTime": {
     "end_time": "2020-04-14T23:02:50.986285Z",
     "start_time": "2020-04-14T23:02:50.943677Z"
    }
   },
   "outputs": [
    {
     "name": "stdout",
     "output_type": "stream",
     "text": [
      "Useless\n",
      "Index(['PassengerId', 'Name'], dtype='object')\n",
      "Binary\n",
      "Index(['Survived', 'Sex'], dtype='object')\n",
      "Nominal\n",
      "Index(['Cabin', 'Ticket', 'Embarked'], dtype='object')\n",
      "Interval\n",
      "Index(['Pclass', 'SibSp', 'Parch', 'Age', 'Fare'], dtype='object')\n"
     ]
    }
   ],
   "source": [
    "for k,y in profile_dict['var_stats'].items():\n",
    "    print(k)\n",
    "    print(y.index)"
   ]
  }
 ],
 "metadata": {
  "kernelspec": {
   "display_name": "ds_python3.7",
   "language": "python",
   "name": "mykernel"
  },
  "language_info": {
   "codemirror_mode": {
    "name": "ipython",
    "version": 3
   },
   "file_extension": ".py",
   "mimetype": "text/x-python",
   "name": "python",
   "nbconvert_exporter": "python",
   "pygments_lexer": "ipython3",
   "version": "3.7.6"
  },
  "toc": {
   "base_numbering": 1,
   "nav_menu": {},
   "number_sections": true,
   "sideBar": true,
   "skip_h1_title": false,
   "title_cell": "Table of Contents",
   "title_sidebar": "Contents",
   "toc_cell": false,
   "toc_position": {},
   "toc_section_display": true,
   "toc_window_display": false
  }
 },
 "nbformat": 4,
 "nbformat_minor": 4
}
